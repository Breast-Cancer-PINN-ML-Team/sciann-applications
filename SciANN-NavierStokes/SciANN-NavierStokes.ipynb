{
 "cells": [
  {
   "cell_type": "code",
   "execution_count": 1,
   "metadata": {},
   "outputs": [
    {
     "name": "stdout",
     "output_type": "stream",
     "text": [
      "---------------------- SCIANN 0.5.4.0 ---------------------- \n",
      "For details, check out our review paper and the documentation at: \n",
      " +  \"https://arxiv.org/abs/2005.08803\", \n",
      " +  \"https://www.sciann.com\". \n",
      "\n"
     ]
    }
   ],
   "source": [
    "import numpy as np \n",
    "import sciann as sn \n",
    "import matplotlib.pyplot as plt \n",
    "import scipy.io"
   ]
  },
  {
   "cell_type": "markdown",
   "metadata": {},
   "source": [
    "# Introduction\n",
    "This is the code for the Navier-Stokes inversion problem from SciANN paper:\n",
    "+ https://arxiv.org/abs/2005.08803\n",
    "+ https://www.sciencedirect.com/science/article/pii/S0045782520307374\n",
    "\n",
    "The training data can be found in the following repository:\n",
    "+ https://github.com/maziarraissi/PINNs/tree/master/main/Data/cylinder_nektar_wake.mat"
   ]
  },
  {
   "cell_type": "code",
   "execution_count": 2,
   "metadata": {},
   "outputs": [],
   "source": [
    "def PrepareData(num_data=5000, random=True):\n",
    "    \n",
    "    # Get data file from: \n",
    "    #         https://github.com/maziarraissi/PINNs/tree/master/main/Data/cylinder_nektar_wake.mat\n",
    "    data = scipy.io.loadmat('cylinder_nektar_wake.mat')\n",
    "    \n",
    "    U_star = data['U_star'] # N x 2 x T\n",
    "    P_star = data['p_star'] # N x T\n",
    "    t_star = data['t'] # T x 1\n",
    "    X_star = data['X_star'] # N x 2\n",
    "    \n",
    "    N = X_star.shape[0]\n",
    "    T = t_star.shape[0]\n",
    "    \n",
    "    # Rearrange Data \n",
    "    XX = np.tile(X_star[:,0:1], (1,T)) # N x T\n",
    "    YY = np.tile(X_star[:,1:2], (1,T)) # N x T\n",
    "    TT = np.tile(t_star, (1,N)).T # N x T\n",
    "    \n",
    "    UU = U_star[:,0,:] # N x T\n",
    "    VV = U_star[:,1,:] # N x T\n",
    "    PP = P_star # N x T\n",
    "    \n",
    "    # Pick random data.\n",
    "    if random:\n",
    "        idx = np.random.choice(N*T, num_data, replace=False)\n",
    "    else:\n",
    "        idx = np.arange(0, N*T)\n",
    "    \n",
    "    x = XX.flatten()[idx,None] # NT x 1\n",
    "    y = YY.flatten()[idx,None] # NT x 1\n",
    "    t = TT.flatten()[idx,None] # NT x 1\n",
    "    \n",
    "    u = UU.flatten()[idx,None] # NT x 1\n",
    "    v = VV.flatten()[idx,None] # NT x 1\n",
    "    p = PP.flatten()[idx,None] # NT x 1\n",
    " \n",
    "    return (x,y,t,u,v,p)"
   ]
  },
  {
   "cell_type": "code",
   "execution_count": 3,
   "metadata": {},
   "outputs": [],
   "source": [
    "x_train, y_train, t_train, u_train, v_train, p_train = PrepareData(5000, random=True)"
   ]
  },
  {
   "cell_type": "markdown",
   "metadata": {},
   "source": [
    "# PINN setup \n",
    "\n",
    "As discussed in the paper, the independent variables are $(x,y,t)$ and the solution variables are $(p, \\psi)$. The velocities are defined as $u=\\psi_{,y}$ and $v=-\\psi_{,x}$. \n",
    "\n",
    "The neural networks are:\n",
    "$$\n",
    "p: (x,y,t) \\rightarrow \\mathcal{N}_p(x,y,t; \\mathbf{W}, \\mathbf{b})\n",
    "\\psi: (x,y,t) \\rightarrow \\mathcal{N}_{\\psi}(x,y,t; \\mathbf{W}, \\mathbf{b})\n",
    "$$\n",
    "\n",
    "\n",
    "The governing relations are summerized as:\n",
    "$$\n",
    "u_{,t} + p_{,x} + \\lambda_1 (u u_{,x} + v u_{,y}) - \\lambda_2 (u_{,xx} + u_{,yy}) = 0 \\\\\n",
    "v_{,t} + p_{,y} + \\lambda_1 (u v_{,x} + v v_{,y}) - \\lambda_2 (v_{,xx} + v_{,yy}) = 0 \n",
    "$$\n",
    "\n"
   ]
  },
  {
   "cell_type": "markdown",
   "metadata": {},
   "source": [
    "Define independent variables with `sn.Variable`:"
   ]
  },
  {
   "cell_type": "code",
   "execution_count": 23,
   "metadata": {},
   "outputs": [],
   "source": [
    "x = sn.Variable(\"x\", dtype='float64')\n",
    "y = sn.Variable(\"y\", dtype='float64')\n",
    "t = sn.Variable(\"t\", dtype='float64')"
   ]
  },
  {
   "cell_type": "markdown",
   "metadata": {},
   "source": [
    "Define solution variables with `sn.Functional` (multi-layer neural network):"
   ]
  },
  {
   "cell_type": "code",
   "execution_count": 24,
   "metadata": {},
   "outputs": [],
   "source": [
    "P = sn.Functional(\"P\", [x, y, t], 8*[20], 'tanh')\n",
    "Psi = sn.Functional(\"Psi\", [x, y, t], 8*[20], 'tanh')"
   ]
  },
  {
   "cell_type": "markdown",
   "metadata": {},
   "source": [
    "For inversion, define parameters using `sn.Parameter`:"
   ]
  },
  {
   "cell_type": "code",
   "execution_count": 25,
   "metadata": {},
   "outputs": [],
   "source": [
    "lambda1 = sn.Parameter(np.random.rand(), inputs=[x,y,t], name=\"lambda1\")\n",
    "lambda2 = sn.Parameter(np.random.rand(), inputs=[x,y,t], name=\"lambda2\")"
   ]
  },
  {
   "cell_type": "markdown",
   "metadata": {},
   "source": [
    "Use `sn.diff` and other mathematical operations to set up the PINN model. "
   ]
  },
  {
   "cell_type": "code",
   "execution_count": 26,
   "metadata": {},
   "outputs": [],
   "source": [
    "u = sn.diff(Psi, y)\n",
    "v = -sn.diff(Psi, x)\n",
    "\n",
    "u_t = sn.diff(u, t)\n",
    "u_x = sn.diff(u, x)\n",
    "u_y = sn.diff(u, y)\n",
    "u_xx = sn.diff(u, x, order=2)\n",
    "u_yy = sn.diff(u, y, order=2)\n",
    "\n",
    "v_t = sn.diff(v, t)\n",
    "v_x = sn.diff(v, x)\n",
    "v_y = sn.diff(v, y)\n",
    "v_xx = sn.diff(v, x, order=2)\n",
    "v_yy = sn.diff(v, y, order=2)\n",
    "\n",
    "p_x = sn.diff(P, x)\n",
    "p_y = sn.diff(P, y)"
   ]
  },
  {
   "cell_type": "markdown",
   "metadata": {},
   "source": [
    "Define targets (losses) using `sn.Data`, `sn.Tie`, and `sn.PDE` interfaces. "
   ]
  },
  {
   "cell_type": "code",
   "execution_count": 27,
   "metadata": {},
   "outputs": [],
   "source": [
    "# Define constraints \n",
    "d1 = sn.Data(u)\n",
    "d2 = sn.Data(v)\n",
    "d3 = sn.Data(P)\n",
    "\n",
    "c1 = sn.Tie(-p_x, u_t+lambda1*(u*u_x+v*u_y)-lambda2*(u_xx+u_yy))\n",
    "c2 = sn.Tie(-p_y, v_t+lambda1*(u*v_x+v*v_y)-lambda2*(v_xx+v_yy))\n",
    "c3 = sn.Data(u_x + v_y)"
   ]
  },
  {
   "cell_type": "markdown",
   "metadata": {},
   "source": [
    "Keras <= 1.4.0 requires training on every target. Therefore, it will through an error if we do not train on $\\psi$. \n",
    "\n",
    "To resolve this error, let's add a trivial target for $\\psi$: "
   ]
  },
  {
   "cell_type": "code",
   "execution_count": 28,
   "metadata": {},
   "outputs": [],
   "source": [
    "c4 = Psi*0.0"
   ]
  },
  {
   "cell_type": "markdown",
   "metadata": {},
   "source": [
    "Define the optimization model with `sn.SciModel`:"
   ]
  },
  {
   "cell_type": "code",
   "execution_count": 29,
   "metadata": {},
   "outputs": [],
   "source": [
    "# Define the optimization model (set of inputs and constraints)\n",
    "model = sn.SciModel(\n",
    "    inputs=[x, y, t],\n",
    "    targets=[d1, d2, d3, c1, c2, c3, c4],\n",
    "    loss_func=\"mse\",\n",
    "    plot_to_file='NS-Model.png'\n",
    ")"
   ]
  },
  {
   "cell_type": "markdown",
   "metadata": {},
   "source": [
    "The network is plotted in the NS-Model.png file. \n",
    "\n",
    "![SciModel](NS-Model.png)"
   ]
  },
  {
   "cell_type": "markdown",
   "metadata": {},
   "source": [
    "Prepare the training data according to the order they are defined in `sn.SciModel`. "
   ]
  },
  {
   "cell_type": "code",
   "execution_count": 30,
   "metadata": {},
   "outputs": [],
   "source": [
    "input_data = [x_train, y_train, t_train]"
   ]
  },
  {
   "cell_type": "code",
   "execution_count": 31,
   "metadata": {},
   "outputs": [],
   "source": [
    "data_d1 = u_train\n",
    "data_d2 = v_train\n",
    "data_d3 = p_train\n",
    "data_c1 = 'zeros'\n",
    "data_c2 = 'zeros'\n",
    "data_c3 = 'zeros'\n",
    "data_c4 = 'zeros'\n",
    "target_data = [data_d1, data_d2, data_d3, data_c1, data_c2, data_c3, data_c4]"
   ]
  },
  {
   "cell_type": "markdown",
   "metadata": {},
   "source": [
    "Train the model by calling `.train` function. Check the documentation at www.sciann.com for all the training options. "
   ]
  },
  {
   "cell_type": "code",
   "execution_count": 32,
   "metadata": {},
   "outputs": [],
   "source": [
    "history = model.train(\n",
    "    x_true=input_data,\n",
    "    y_true=target_data,\n",
    "    epochs=10000,\n",
    "    batch_size=100,\n",
    "    shuffle=True,\n",
    "    learning_rate=0.001,\n",
    "    reduce_lr_after=100,\n",
    "    stop_loss_value=1e-8,\n",
    "    verbose=1\n",
    ")\n",
    "\n",
    "model.save_weights('trained-navier-stokes.hdf5')"
   ]
  },
  {
   "cell_type": "code",
   "execution_count": 33,
   "metadata": {},
   "outputs": [
    {
     "name": "stdout",
     "output_type": "stream",
     "text": [
      "lambda1: [0.99794099],  lambda2: [0.0108588]\n"
     ]
    }
   ],
   "source": [
    "print(\"lambda1: {},  lambda2: {}\".format(lambda1.value, lambda2.value))"
   ]
  },
  {
   "cell_type": "code",
   "execution_count": 34,
   "metadata": {},
   "outputs": [
    {
     "data": {
      "text/plain": [
       "Text(0, 0.5, 'loss')"
      ]
     },
     "execution_count": 34,
     "metadata": {},
     "output_type": "execute_result"
    },
    {
     "data": {
      "image/png": "[encoded data removed]",
      "text/plain": [
       "<Figure size 432x288 with 1 Axes>"
      ]
     },
     "metadata": {
      "needs_background": "light"
     },
     "output_type": "display_data"
    }
   ],
   "source": [
    "plt.semilogy(history.history['loss'])\n",
    "plt.xlabel('epochs')\n",
    "plt.ylabel('loss')"
   ]
  },
  {
   "cell_type": "code",
   "execution_count": null,
   "metadata": {},
   "outputs": [],
   "source": []
  }
 ],
 "metadata": {
  "kernelspec": {
   "display_name": "Python 3",
   "language": "python",
   "name": "python3"
  },
  "language_info": {
   "codemirror_mode": {
    "name": "ipython",
    "version": 3
   },
   "file_extension": ".py",
   "mimetype": "text/x-python",
   "name": "python",
   "nbconvert_exporter": "python",
   "pygments_lexer": "ipython3",
   "version": "3.7.7"
  }
 },
 "nbformat": 4,
 "nbformat_minor": 4
}
